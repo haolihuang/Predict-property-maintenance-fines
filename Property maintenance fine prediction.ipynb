{
 "cells": [
  {
   "cell_type": "markdown",
   "metadata": {},
   "source": [
    "Author: Hao-Li Huang\n",
    "\n",
    "This project is modified from the final assignment from the Applied Machine Learning in Python course. We want to build a model to predict if property maintenance fines would be paid on time. \n",
    "<br><br>\n",
    "To validate the models without data leakage, I built a customized transformer class to be used in a pipeline.\n",
    "A model with an Area Under ROC Curve score of **0.75** will get full credit. I was able to optimize a Random Forest Classifier to an Area Under ROC Curve score of **0.845**.\n",
    "<br><br>\n",
    "The original instruction is as follows. Note that some of the hyperlinks in it might be invalid now."
   ]
  },
  {
   "cell_type": "markdown",
   "metadata": {},
   "source": [
    "---\n",
    "\n",
    "## Understanding and Predicting Property Maintenance Fines\n",
    "\n",
    "This assignment is based on a data challenge from the Michigan Data Science Team ([MDST](http://midas.umich.edu/mdst/)). \n",
    "\n",
    "The Michigan Data Science Team ([MDST](http://midas.umich.edu/mdst/)) and the Michigan Student Symposium for Interdisciplinary Statistical Sciences ([MSSISS](https://sites.lsa.umich.edu/mssiss/)) have partnered with the City of Detroit to help solve one of the most pressing problems facing Detroit - blight. [Blight violations](http://www.detroitmi.gov/How-Do-I/Report/Blight-Complaint-FAQs) are issued by the city to individuals who allow their properties to remain in a deteriorated condition. Every year, the city of Detroit issues millions of dollars in fines to residents and every year, many of these fines remain unpaid. Enforcing unpaid blight fines is a costly and tedious process, so the city wants to know: how can we increase blight ticket compliance?\n",
    "\n",
    "The first step in answering this question is understanding when and why a resident might fail to comply with a blight ticket. This is where predictive modeling comes in. For this assignment, your task is to predict whether a given blight ticket will be paid on time.\n",
    "\n",
    "All data for this assignment has been provided to us through the [Detroit Open Data Portal](https://data.detroitmi.gov/). **Only the data already included in your Coursera directory can be used for training the model for this assignment.** Nonetheless, we encourage you to look into data from other Detroit datasets to help inform feature creation and model selection. We recommend taking a look at the following related datasets:\n",
    "\n",
    "* [Building Permits](https://data.detroitmi.gov/Property-Parcels/Building-Permits/xw2a-a7tf)\n",
    "* [Trades Permits](https://data.detroitmi.gov/Property-Parcels/Trades-Permits/635b-dsgv)\n",
    "* [Improve Detroit: Submitted Issues](https://data.detroitmi.gov/Government/Improve-Detroit-Submitted-Issues/fwz3-w3yn)\n",
    "* [DPD: Citizen Complaints](https://data.detroitmi.gov/Public-Safety/DPD-Citizen-Complaints-2016/kahe-efs3)\n",
    "* [Parcel Map](https://data.detroitmi.gov/Property-Parcels/Parcel-Map/fxkw-udwf)\n",
    "\n",
    "___\n",
    "\n",
    "We provide you with two data files for use in training and validating your models: train.csv and test.csv. Each row in these two files corresponds to a single blight ticket, and includes information about when, why, and to whom each ticket was issued. The target variable is compliance, which is True if the ticket was paid early, on time, or within one month of the hearing data, False if the ticket was paid after the hearing date or not at all, and Null if the violator was found not responsible. Compliance, as well as a handful of other variables that will not be available at test-time, are only included in train.csv.\n",
    "\n",
    "Note: All tickets where the violators were found not responsible are not considered during evaluation. They are included in the training set as an additional source of data for visualization, and to enable unsupervised and semi-supervised approaches. However, they are not included in the test set.\n",
    "\n",
    "<br>\n",
    "\n",
    "**File descriptions** (Use only this data for training your model!)\n",
    "\n",
    "    readonly/train.csv - the training set (all tickets issued 2004-2011)\n",
    "    readonly/test.csv - the test set (all tickets issued 2012-2016)\n",
    "    readonly/addresses.csv & readonly/latlons.csv - mapping from ticket id to addresses, and from addresses to lat/lon coordinates. \n",
    "     Note: misspelled addresses may be incorrectly geolocated.\n",
    "\n",
    "<br>\n",
    "\n",
    "**Data fields**\n",
    "\n",
    "train.csv & test.csv\n",
    "\n",
    "    ticket_id - unique identifier for tickets\n",
    "    agency_name - Agency that issued the ticket\n",
    "    inspector_name - Name of inspector that issued the ticket\n",
    "    violator_name - Name of the person/organization that the ticket was issued to\n",
    "    violation_street_number, violation_street_name, violation_zip_code - Address where the violation occurred\n",
    "    mailing_address_str_number, mailing_address_str_name, city, state, zip_code, non_us_str_code, country - Mailing address of the violator\n",
    "    ticket_issued_date - Date and time the ticket was issued\n",
    "    hearing_date - Date and time the violator's hearing was scheduled\n",
    "    violation_code, violation_description - Type of violation\n",
    "    disposition - Judgment and judgement type\n",
    "    fine_amount - Violation fine amount, excluding fees\n",
    "    admin_fee - $20 fee assigned to responsible judgments\n",
    "state_fee - $10 fee assigned to responsible judgments\n",
    "    late_fee - 10% fee assigned to responsible judgments\n",
    "    discount_amount - discount applied, if any\n",
    "    clean_up_cost - DPW clean-up or graffiti removal cost\n",
    "    judgment_amount - Sum of all fines and fees\n",
    "    grafitti_status - Flag for graffiti violations\n",
    "    \n",
    "train.csv only\n",
    "\n",
    "    payment_amount - Amount paid, if any\n",
    "    payment_date - Date payment was made, if it was received\n",
    "    payment_status - Current payment status as of Feb 1 2017\n",
    "    balance_due - Fines and fees still owed\n",
    "    collection_status - Flag for payments in collections\n",
    "    compliance [target variable for prediction] \n",
    "     Null = Not responsible\n",
    "     0 = Responsible, non-compliant\n",
    "     1 = Responsible, compliant\n",
    "    compliance_detail - More information on why each ticket was marked compliant or non-compliant\n",
    "\n",
    "\n",
    "___\n",
    "\n",
    "## Evaluation\n",
    "\n",
    "Your predictions will be given as the probability that the corresponding blight ticket will be paid on time.\n",
    "\n",
    "The evaluation metric for this assignment is the Area Under the ROC Curve (AUC). \n",
    "\n",
    "Your grade will be based on the AUC score computed for your classifier. A model which with an AUROC of 0.7 passes this assignment, over 0.75 will recieve full points.\n",
    "___\n",
    "\n",
    "For this assignment, create a function that trains a model to predict blight ticket compliance in Detroit using `readonly/train.csv`. Using this model, return a series of length 61001 with the data being the probability that each corresponding ticket from `readonly/test.csv` will be paid, and the index being the ticket_id.\n",
    "\n",
    "Example:\n",
    "\n",
    "    ticket_id\n",
    "       284932    0.531842\n",
    "       285362    0.401958\n",
    "       285361    0.105928\n",
    "       285338    0.018572\n",
    "                 ...\n",
    "       376499    0.208567\n",
    "       376500    0.818759\n",
    "       369851    0.018528\n",
    "       Name: compliance, dtype: float32\n",
    "      \n",
    "---"
   ]
  },
  {
   "cell_type": "markdown",
   "metadata": {},
   "source": [
    "# 1. Loading and Cleaning Data"
   ]
  },
  {
   "cell_type": "code",
   "execution_count": 1,
   "metadata": {},
   "outputs": [],
   "source": [
    "import pandas as pd\n",
    "import numpy as np\n",
    "    \n",
    "train = pd.read_csv('train.csv', engine='python')\n",
    "test = pd.read_csv('test.csv', engine='python')\n",
    "addresses = pd.read_csv('addresses.csv', engine='python') # ticket_id, address\n",
    "latlons = pd.read_csv('latlons.csv', engine='python') # address, lat, lon"
   ]
  },
  {
   "cell_type": "markdown",
   "metadata": {},
   "source": [
    "A list of `ticket_id` and corresponding `address` is provided to us in `addresses.csv`, and so is a list of `address` with corresonding latitude (`lat`) and longitude (`lon`) in `latlons.csv`. I first merge them both to the `train` and `test` data frames."
   ]
  },
  {
   "cell_type": "code",
   "execution_count": 2,
   "metadata": {},
   "outputs": [],
   "source": [
    "ad_latlons = pd.merge(addresses, latlons, how='left', on='address')\n",
    "train = pd.merge(train, ad_latlons, how='left', on='ticket_id')\n",
    "test = pd.merge(test, ad_latlons, how='left', on='ticket_id')"
   ]
  },
  {
   "cell_type": "markdown",
   "metadata": {},
   "source": [
    "According to the instruction, we don't consider the case when `compliance` is `NaN`. I also decided to not use the columns that are not included in the `test` data frame."
   ]
  },
  {
   "cell_type": "code",
   "execution_count": 3,
   "metadata": {},
   "outputs": [],
   "source": [
    "# Only consider violators responsible for the ticket (compliance is not NaN)\n",
    "train = train[~ np.isnan(train['compliance'])]\n",
    "# Drop the columns in train but not in test\n",
    "train = train.drop(['payment_amount', 'payment_date', 'payment_status', 'balance_due', \n",
    "                    'collection_status', 'compliance_detail'], axis=1)"
   ]
  },
  {
   "cell_type": "markdown",
   "metadata": {},
   "source": [
    "Next, I manually inspected the missing values in `lat` and `lon`, and filled in the missing values."
   ]
  },
  {
   "cell_type": "code",
   "execution_count": 4,
   "metadata": {},
   "outputs": [
    {
     "data": {
      "text/html": [
       "<div>\n",
       "<style scoped>\n",
       "    .dataframe tbody tr th:only-of-type {\n",
       "        vertical-align: middle;\n",
       "    }\n",
       "\n",
       "    .dataframe tbody tr th {\n",
       "        vertical-align: top;\n",
       "    }\n",
       "\n",
       "    .dataframe thead th {\n",
       "        text-align: right;\n",
       "    }\n",
       "</style>\n",
       "<table border=\"1\" class=\"dataframe\">\n",
       "  <thead>\n",
       "    <tr style=\"text-align: right;\">\n",
       "      <th></th>\n",
       "      <th>address</th>\n",
       "      <th>lat</th>\n",
       "      <th>lon</th>\n",
       "    </tr>\n",
       "  </thead>\n",
       "  <tbody>\n",
       "    <tr>\n",
       "      <th>65578</th>\n",
       "      <td>20424 bramford, Detroit MI</td>\n",
       "      <td>NaN</td>\n",
       "      <td>NaN</td>\n",
       "    </tr>\n",
       "    <tr>\n",
       "      <th>191722</th>\n",
       "      <td>445 fordyce, Detroit MI</td>\n",
       "      <td>NaN</td>\n",
       "      <td>NaN</td>\n",
       "    </tr>\n",
       "  </tbody>\n",
       "</table>\n",
       "</div>"
      ],
      "text/plain": [
       "                           address  lat  lon\n",
       "65578   20424 bramford, Detroit MI  NaN  NaN\n",
       "191722     445 fordyce, Detroit MI  NaN  NaN"
      ]
     },
     "execution_count": 4,
     "metadata": {},
     "output_type": "execute_result"
    }
   ],
   "source": [
    "# Check missing lat, lon values\n",
    "train[train['lat'].isna()][['address', 'lat', 'lon']]"
   ]
  },
  {
   "cell_type": "code",
   "execution_count": 5,
   "metadata": {},
   "outputs": [
    {
     "data": {
      "text/html": [
       "<div>\n",
       "<style scoped>\n",
       "    .dataframe tbody tr th:only-of-type {\n",
       "        vertical-align: middle;\n",
       "    }\n",
       "\n",
       "    .dataframe tbody tr th {\n",
       "        vertical-align: top;\n",
       "    }\n",
       "\n",
       "    .dataframe thead th {\n",
       "        text-align: right;\n",
       "    }\n",
       "</style>\n",
       "<table border=\"1\" class=\"dataframe\">\n",
       "  <thead>\n",
       "    <tr style=\"text-align: right;\">\n",
       "      <th></th>\n",
       "      <th>address</th>\n",
       "      <th>lat</th>\n",
       "      <th>lon</th>\n",
       "    </tr>\n",
       "  </thead>\n",
       "  <tbody>\n",
       "    <tr>\n",
       "      <th>20459</th>\n",
       "      <td>20424 bramford, Detroit MI</td>\n",
       "      <td>NaN</td>\n",
       "      <td>NaN</td>\n",
       "    </tr>\n",
       "    <tr>\n",
       "      <th>28350</th>\n",
       "      <td>8325 joy rd, Detroit MI 482O4</td>\n",
       "      <td>NaN</td>\n",
       "      <td>NaN</td>\n",
       "    </tr>\n",
       "    <tr>\n",
       "      <th>28416</th>\n",
       "      <td>1201 elijah mccoy dr, Detroit MI 48208</td>\n",
       "      <td>NaN</td>\n",
       "      <td>NaN</td>\n",
       "    </tr>\n",
       "    <tr>\n",
       "      <th>31925</th>\n",
       "      <td>12038 prairie, Detroit MI 482O4</td>\n",
       "      <td>NaN</td>\n",
       "      <td>NaN</td>\n",
       "    </tr>\n",
       "    <tr>\n",
       "      <th>55400</th>\n",
       "      <td>6200 16th st, Detroit MI 482O8</td>\n",
       "      <td>NaN</td>\n",
       "      <td>NaN</td>\n",
       "    </tr>\n",
       "  </tbody>\n",
       "</table>\n",
       "</div>"
      ],
      "text/plain": [
       "                                      address  lat  lon\n",
       "20459              20424 bramford, Detroit MI  NaN  NaN\n",
       "28350           8325 joy rd, Detroit MI 482O4  NaN  NaN\n",
       "28416  1201 elijah mccoy dr, Detroit MI 48208  NaN  NaN\n",
       "31925         12038 prairie, Detroit MI 482O4  NaN  NaN\n",
       "55400          6200 16th st, Detroit MI 482O8  NaN  NaN"
      ]
     },
     "execution_count": 5,
     "metadata": {},
     "output_type": "execute_result"
    }
   ],
   "source": [
    "test[test['lat'].isna()][['address', 'lat', 'lon']]"
   ]
  },
  {
   "cell_type": "code",
   "execution_count": 6,
   "metadata": {},
   "outputs": [],
   "source": [
    "### Look up the lat and lon of the adresses with missing lat and lon\n",
    "### and manuallly fill them in\n",
    "\n",
    "train.loc[65578,['lat', 'lon']] = 42.446540, -83.023300\n",
    "train.loc[191722,['lat', 'lon']] = 42.353240, -83.066120\n",
    "\n",
    "test.loc[20459,['lat', 'lon']] = 42.446540, -83.023300\n",
    "test.loc[28350,['lat', 'lon']] = 42.358910, -83.151329\n",
    "test.loc[28416,['lat', 'lon']] = 42.359720, -83.080190\n",
    "test.loc[31925,['lat', 'lon']] = 42.376720, -83.143211\n",
    "test.loc[55400,['lat', 'lon']] = 42.359919, -83.095843"
   ]
  },
  {
   "cell_type": "markdown",
   "metadata": {},
   "source": [
    "Now, we come back to check the missing values in the original `train` and `test` datasets. I used `isna()` and `mean()` methods to see the fraction of the data that are missing."
   ]
  },
  {
   "cell_type": "code",
   "execution_count": 7,
   "metadata": {},
   "outputs": [
    {
     "data": {
      "text/plain": [
       "ticket_id                     0.000000\n",
       "agency_name                   0.000000\n",
       "inspector_name                0.000000\n",
       "violator_name                 0.000163\n",
       "violation_street_number       0.000000\n",
       "violation_street_name         0.000000\n",
       "violation_zip_code            1.000000\n",
       "mailing_address_str_number    0.015999\n",
       "mailing_address_str_name      0.000019\n",
       "city                          0.000000\n",
       "state                         0.000525\n",
       "zip_code                      0.000006\n",
       "non_us_str_code               0.999981\n",
       "country                       0.000000\n",
       "ticket_issued_date            0.000000\n",
       "hearing_date                  0.001420\n",
       "violation_code                0.000000\n",
       "violation_description         0.000000\n",
       "disposition                   0.000000\n",
       "fine_amount                   0.000000\n",
       "admin_fee                     0.000000\n",
       "state_fee                     0.000000\n",
       "late_fee                      0.000000\n",
       "discount_amount               0.000000\n",
       "clean_up_cost                 0.000000\n",
       "judgment_amount               0.000000\n",
       "grafitti_status               1.000000\n",
       "compliance                    0.000000\n",
       "address                       0.000000\n",
       "lat                           0.000000\n",
       "lon                           0.000000\n",
       "dtype: float64"
      ]
     },
     "execution_count": 7,
     "metadata": {},
     "output_type": "execute_result"
    }
   ],
   "source": [
    "# Check missing values\n",
    "train.isna().mean()"
   ]
  },
  {
   "cell_type": "markdown",
   "metadata": {},
   "source": [
    "Three columns are mostly missing: `violation_zip_code`, `non_us_str_code`, and `grafitti_status`. These columns will be dropped. In addition, I also decided to drop all address-related columns, as the information is already captured by `lat` and `lon`. Lastly, I dropped `ticket_id` because it does not help with training our model."
   ]
  },
  {
   "cell_type": "code",
   "execution_count": 8,
   "metadata": {},
   "outputs": [],
   "source": [
    "cols_to_drop = ['ticket_id', 'violation_street_number', 'violation_street_name', \n",
    "                'violation_zip_code', 'mailing_address_str_number', \n",
    "                'mailing_address_str_name', 'city', 'state', 'zip_code', \n",
    "                'non_us_str_code', 'country', 'grafitti_status', 'address']\n",
    "\n",
    "train = train.drop(cols_to_drop, axis=1)\n",
    "\n",
    "test_id = test['ticket_id'] # Take a note of test_id for submission\n",
    "test = test.drop(cols_to_drop, axis=1)"
   ]
  },
  {
   "cell_type": "markdown",
   "metadata": {},
   "source": [
    "Then, we look at the distribution of the values in the remaining numeric features using the `describe()` method."
   ]
  },
  {
   "cell_type": "code",
   "execution_count": 9,
   "metadata": {},
   "outputs": [
    {
     "data": {
      "text/html": [
       "<div>\n",
       "<style scoped>\n",
       "    .dataframe tbody tr th:only-of-type {\n",
       "        vertical-align: middle;\n",
       "    }\n",
       "\n",
       "    .dataframe tbody tr th {\n",
       "        vertical-align: top;\n",
       "    }\n",
       "\n",
       "    .dataframe thead th {\n",
       "        text-align: right;\n",
       "    }\n",
       "</style>\n",
       "<table border=\"1\" class=\"dataframe\">\n",
       "  <thead>\n",
       "    <tr style=\"text-align: right;\">\n",
       "      <th></th>\n",
       "      <th>fine_amount</th>\n",
       "      <th>admin_fee</th>\n",
       "      <th>state_fee</th>\n",
       "      <th>late_fee</th>\n",
       "      <th>discount_amount</th>\n",
       "      <th>clean_up_cost</th>\n",
       "      <th>judgment_amount</th>\n",
       "      <th>compliance</th>\n",
       "      <th>lat</th>\n",
       "      <th>lon</th>\n",
       "    </tr>\n",
       "  </thead>\n",
       "  <tbody>\n",
       "    <tr>\n",
       "      <th>count</th>\n",
       "      <td>159880.000000</td>\n",
       "      <td>159880.0</td>\n",
       "      <td>159880.0</td>\n",
       "      <td>159880.000000</td>\n",
       "      <td>159880.000000</td>\n",
       "      <td>159880.0</td>\n",
       "      <td>159880.000000</td>\n",
       "      <td>159880.000000</td>\n",
       "      <td>159880.000000</td>\n",
       "      <td>159880.000000</td>\n",
       "    </tr>\n",
       "    <tr>\n",
       "      <th>mean</th>\n",
       "      <td>357.035295</td>\n",
       "      <td>20.0</td>\n",
       "      <td>10.0</td>\n",
       "      <td>33.651512</td>\n",
       "      <td>0.195959</td>\n",
       "      <td>0.0</td>\n",
       "      <td>420.650218</td>\n",
       "      <td>0.072536</td>\n",
       "      <td>42.389747</td>\n",
       "      <td>-83.111529</td>\n",
       "    </tr>\n",
       "    <tr>\n",
       "      <th>std</th>\n",
       "      <td>675.655580</td>\n",
       "      <td>0.0</td>\n",
       "      <td>0.0</td>\n",
       "      <td>67.692916</td>\n",
       "      <td>4.290344</td>\n",
       "      <td>0.0</td>\n",
       "      <td>742.555062</td>\n",
       "      <td>0.259374</td>\n",
       "      <td>0.037120</td>\n",
       "      <td>0.093515</td>\n",
       "    </tr>\n",
       "    <tr>\n",
       "      <th>min</th>\n",
       "      <td>0.000000</td>\n",
       "      <td>20.0</td>\n",
       "      <td>10.0</td>\n",
       "      <td>0.000000</td>\n",
       "      <td>0.000000</td>\n",
       "      <td>0.0</td>\n",
       "      <td>0.000000</td>\n",
       "      <td>0.000000</td>\n",
       "      <td>42.145257</td>\n",
       "      <td>-84.403766</td>\n",
       "    </tr>\n",
       "    <tr>\n",
       "      <th>25%</th>\n",
       "      <td>200.000000</td>\n",
       "      <td>20.0</td>\n",
       "      <td>10.0</td>\n",
       "      <td>10.000000</td>\n",
       "      <td>0.000000</td>\n",
       "      <td>0.0</td>\n",
       "      <td>250.000000</td>\n",
       "      <td>0.000000</td>\n",
       "      <td>42.364535</td>\n",
       "      <td>-83.185854</td>\n",
       "    </tr>\n",
       "    <tr>\n",
       "      <th>50%</th>\n",
       "      <td>250.000000</td>\n",
       "      <td>20.0</td>\n",
       "      <td>10.0</td>\n",
       "      <td>25.000000</td>\n",
       "      <td>0.000000</td>\n",
       "      <td>0.0</td>\n",
       "      <td>305.000000</td>\n",
       "      <td>0.000000</td>\n",
       "      <td>42.392575</td>\n",
       "      <td>-83.124517</td>\n",
       "    </tr>\n",
       "    <tr>\n",
       "      <th>75%</th>\n",
       "      <td>250.000000</td>\n",
       "      <td>20.0</td>\n",
       "      <td>10.0</td>\n",
       "      <td>25.000000</td>\n",
       "      <td>0.000000</td>\n",
       "      <td>0.0</td>\n",
       "      <td>305.000000</td>\n",
       "      <td>0.000000</td>\n",
       "      <td>42.419160</td>\n",
       "      <td>-83.033202</td>\n",
       "    </tr>\n",
       "    <tr>\n",
       "      <th>max</th>\n",
       "      <td>10000.000000</td>\n",
       "      <td>20.0</td>\n",
       "      <td>10.0</td>\n",
       "      <td>1000.000000</td>\n",
       "      <td>350.000000</td>\n",
       "      <td>0.0</td>\n",
       "      <td>11030.000000</td>\n",
       "      <td>1.000000</td>\n",
       "      <td>44.785389</td>\n",
       "      <td>-82.512936</td>\n",
       "    </tr>\n",
       "  </tbody>\n",
       "</table>\n",
       "</div>"
      ],
      "text/plain": [
       "         fine_amount  admin_fee  state_fee       late_fee  discount_amount  \\\n",
       "count  159880.000000   159880.0   159880.0  159880.000000    159880.000000   \n",
       "mean      357.035295       20.0       10.0      33.651512         0.195959   \n",
       "std       675.655580        0.0        0.0      67.692916         4.290344   \n",
       "min         0.000000       20.0       10.0       0.000000         0.000000   \n",
       "25%       200.000000       20.0       10.0      10.000000         0.000000   \n",
       "50%       250.000000       20.0       10.0      25.000000         0.000000   \n",
       "75%       250.000000       20.0       10.0      25.000000         0.000000   \n",
       "max     10000.000000       20.0       10.0    1000.000000       350.000000   \n",
       "\n",
       "       clean_up_cost  judgment_amount     compliance            lat  \\\n",
       "count       159880.0    159880.000000  159880.000000  159880.000000   \n",
       "mean             0.0       420.650218       0.072536      42.389747   \n",
       "std              0.0       742.555062       0.259374       0.037120   \n",
       "min              0.0         0.000000       0.000000      42.145257   \n",
       "25%              0.0       250.000000       0.000000      42.364535   \n",
       "50%              0.0       305.000000       0.000000      42.392575   \n",
       "75%              0.0       305.000000       0.000000      42.419160   \n",
       "max              0.0     11030.000000       1.000000      44.785389   \n",
       "\n",
       "                 lon  \n",
       "count  159880.000000  \n",
       "mean      -83.111529  \n",
       "std         0.093515  \n",
       "min       -84.403766  \n",
       "25%       -83.185854  \n",
       "50%       -83.124517  \n",
       "75%       -83.033202  \n",
       "max       -82.512936  "
      ]
     },
     "execution_count": 9,
     "metadata": {},
     "output_type": "execute_result"
    }
   ],
   "source": [
    "train.describe()"
   ]
  },
  {
   "cell_type": "markdown",
   "metadata": {},
   "source": [
    "First, we notice that the dependent variable that we try to predict, `compliance`, is unbalanced. Most of `compliance` has a value of `0`, meaning, not paid on time. Therefore, to validate the model later, we will use ROC AUC score (area under the receiver operating characteristic curve), instead of accuracy score.\n",
    "\n",
    "We see that `admin_fee`, `state_fee`, and `clean_up_cost` have the same value across all rows, so we will drop these columns. \n",
    "<br>\n",
    "In addition, if a blight ticket is charged a `late_fee`, the amount would always be 10% of `fine_amount`. This creates a collinearity, which is not desirable when training certain models. The useful information might be 'if there is a late fee', so I decided to add a categorical column `is_late` (Y/N), and then dropped `late_fee`."
   ]
  },
  {
   "cell_type": "code",
   "execution_count": 10,
   "metadata": {},
   "outputs": [],
   "source": [
    "cols_to_drop = ['admin_fee', 'state_fee', 'clean_up_cost']\n",
    "train = train.drop(cols_to_drop, axis=1)\n",
    "test = test.drop(cols_to_drop, axis=1)\n",
    "\n",
    "# Transform late_fee to a categorical feature: is_late (Y/N)\n",
    "for df in [train, test]:\n",
    "    df['is_late'] = df['late_fee'].apply(lambda c: 'N' if c == 0 else 'Y')\n",
    "    df = df.drop('late_fee', axis=1, inplace=True)"
   ]
  },
  {
   "cell_type": "markdown",
   "metadata": {},
   "source": [
    "Next, we look at the categorical features using `describe(include = ['O'])`."
   ]
  },
  {
   "cell_type": "code",
   "execution_count": 11,
   "metadata": {},
   "outputs": [
    {
     "data": {
      "text/html": [
       "<div>\n",
       "<style scoped>\n",
       "    .dataframe tbody tr th:only-of-type {\n",
       "        vertical-align: middle;\n",
       "    }\n",
       "\n",
       "    .dataframe tbody tr th {\n",
       "        vertical-align: top;\n",
       "    }\n",
       "\n",
       "    .dataframe thead th {\n",
       "        text-align: right;\n",
       "    }\n",
       "</style>\n",
       "<table border=\"1\" class=\"dataframe\">\n",
       "  <thead>\n",
       "    <tr style=\"text-align: right;\">\n",
       "      <th></th>\n",
       "      <th>agency_name</th>\n",
       "      <th>inspector_name</th>\n",
       "      <th>violator_name</th>\n",
       "      <th>ticket_issued_date</th>\n",
       "      <th>hearing_date</th>\n",
       "      <th>violation_code</th>\n",
       "      <th>violation_description</th>\n",
       "      <th>disposition</th>\n",
       "      <th>is_late</th>\n",
       "    </tr>\n",
       "  </thead>\n",
       "  <tbody>\n",
       "    <tr>\n",
       "      <th>count</th>\n",
       "      <td>159880</td>\n",
       "      <td>159880</td>\n",
       "      <td>159854</td>\n",
       "      <td>159880</td>\n",
       "      <td>159653</td>\n",
       "      <td>159880</td>\n",
       "      <td>159880</td>\n",
       "      <td>159880</td>\n",
       "      <td>159880</td>\n",
       "    </tr>\n",
       "    <tr>\n",
       "      <th>unique</th>\n",
       "      <td>5</td>\n",
       "      <td>159</td>\n",
       "      <td>84656</td>\n",
       "      <td>68097</td>\n",
       "      <td>5970</td>\n",
       "      <td>189</td>\n",
       "      <td>207</td>\n",
       "      <td>4</td>\n",
       "      <td>2</td>\n",
       "    </tr>\n",
       "    <tr>\n",
       "      <th>top</th>\n",
       "      <td>Buildings, Safety Engineering &amp; Env Department</td>\n",
       "      <td>Morris, John</td>\n",
       "      <td>INVESTMENT, ACORN</td>\n",
       "      <td>2007-12-21 09:00:00</td>\n",
       "      <td>2005-12-20 09:00:00</td>\n",
       "      <td>9-1-36(a)</td>\n",
       "      <td>Failure of owner to obtain certificate of comp...</td>\n",
       "      <td>Responsible by Default</td>\n",
       "      <td>Y</td>\n",
       "    </tr>\n",
       "    <tr>\n",
       "      <th>freq</th>\n",
       "      <td>95863</td>\n",
       "      <td>11604</td>\n",
       "      <td>624</td>\n",
       "      <td>60</td>\n",
       "      <td>590</td>\n",
       "      <td>64414</td>\n",
       "      <td>64414</td>\n",
       "      <td>138340</td>\n",
       "      <td>144422</td>\n",
       "    </tr>\n",
       "  </tbody>\n",
       "</table>\n",
       "</div>"
      ],
      "text/plain": [
       "                                           agency_name inspector_name  \\\n",
       "count                                           159880         159880   \n",
       "unique                                               5            159   \n",
       "top     Buildings, Safety Engineering & Env Department   Morris, John   \n",
       "freq                                             95863          11604   \n",
       "\n",
       "            violator_name   ticket_issued_date         hearing_date  \\\n",
       "count              159854               159880               159653   \n",
       "unique              84656                68097                 5970   \n",
       "top     INVESTMENT, ACORN  2007-12-21 09:00:00  2005-12-20 09:00:00   \n",
       "freq                  624                   60                  590   \n",
       "\n",
       "       violation_code                              violation_description  \\\n",
       "count          159880                                             159880   \n",
       "unique            189                                                207   \n",
       "top         9-1-36(a)  Failure of owner to obtain certificate of comp...   \n",
       "freq            64414                                              64414   \n",
       "\n",
       "                   disposition is_late  \n",
       "count                   159880  159880  \n",
       "unique                       4       2  \n",
       "top     Responsible by Default       Y  \n",
       "freq                    138340  144422  "
      ]
     },
     "execution_count": 11,
     "metadata": {},
     "output_type": "execute_result"
    }
   ],
   "source": [
    "train.describe(include = ['O'])"
   ]
  },
  {
   "cell_type": "markdown",
   "metadata": {},
   "source": [
    "First, `ticket_issued_date` and `hearing_date` are not categorical features. They should be treansformed into numeric features.\n",
    "<br><br>\n",
    "Next, It appears that `violation_description` and `violation_code` contains the identical information, so we will drop the former.\n",
    "<br><br>\n",
    "Lastly, I plan to use the one hot encoder to encode the categorical features, only keeping the categories with frequencies > 5% (chosen arbitrarily and can be optimized), and substituting infrequent categories with 'rare'. Because the most freqent category in `violator_name` is around 0.4%, all values in this features will become 'rare', so this feature is not going to be useful. We will drop this feature as well."
   ]
  },
  {
   "cell_type": "code",
   "execution_count": 12,
   "metadata": {},
   "outputs": [
    {
     "data": {
      "text/plain": [
       "agency_name                 0.599593\n",
       "inspector_name             0.0725794\n",
       "violator_name             0.00390293\n",
       "ticket_issued_date       0.000375281\n",
       "hearing_date              0.00369027\n",
       "violation_code               0.40289\n",
       "violation_description        0.40289\n",
       "disposition                 0.865274\n",
       "is_late                     0.903315\n",
       "Name: freq, dtype: object"
      ]
     },
     "execution_count": 12,
     "metadata": {},
     "output_type": "execute_result"
    }
   ],
   "source": [
    "# No violator name has more than 5% share\n",
    "train.describe(include = ['O']).loc['freq']/len(train)"
   ]
  },
  {
   "cell_type": "code",
   "execution_count": 13,
   "metadata": {},
   "outputs": [],
   "source": [
    "# violation code and ciolation description are the same information\n",
    "# Also drop violation name because even the most frequent one occurs < 0.4%\n",
    "cols_to_drop = ['violation_description', 'violator_name']\n",
    "train = train.drop(cols_to_drop, axis=1)\n",
    "test = test.drop(cols_to_drop, axis=1)\n",
    "\n",
    "# Change the date columns into datetime object\n",
    "dt_cols = ['ticket_issued_date', 'hearing_date']\n",
    "for col in dt_cols:\n",
    "    train[col] = pd.to_datetime(train[col])\n",
    "    test[col] = pd.to_datetime(test[col])"
   ]
  },
  {
   "cell_type": "markdown",
   "metadata": {},
   "source": [
    "Now we have looked into every feature in the dataset. Let's check again if there are any missing values remained."
   ]
  },
  {
   "cell_type": "code",
   "execution_count": 14,
   "metadata": {},
   "outputs": [
    {
     "data": {
      "text/plain": [
       "agency_name             0\n",
       "inspector_name          0\n",
       "ticket_issued_date      0\n",
       "hearing_date          227\n",
       "violation_code          0\n",
       "disposition             0\n",
       "fine_amount             0\n",
       "discount_amount         0\n",
       "judgment_amount         0\n",
       "compliance              0\n",
       "lat                     0\n",
       "lon                     0\n",
       "is_late                 0\n",
       "dtype: int64"
      ]
     },
     "execution_count": 14,
     "metadata": {},
     "output_type": "execute_result"
    }
   ],
   "source": [
    "train.isna().sum() "
   ]
  },
  {
   "cell_type": "markdown",
   "metadata": {},
   "source": [
    "There are only a few missing values in `hearing_date`, which I will tackle by building a custumized transformer class in the following section.\n",
    "\n",
    "# 2. Customized Transformer Class\n",
    "\n",
    "To avoid data leakage in the cross validation process, I built a customized transformer to carry out a series of transformations to the data prior model training. \n",
    "<br><br>\n",
    "The transformations are <br>\n",
    "(a) impute missing values in `hearing_date`, <br>\n",
    "(b) replace infrequent categories in categorical features with 'rare', <br>\n",
    "(c) transform datetime features into a series of numeric features, <br>\n",
    "(d) cluster the locations using `lat` and `lon`, and <br>\n",
    "(e) engineer additional features using `lat` and `lon` to capture more of the spatial information."
   ]
  },
  {
   "cell_type": "code",
   "execution_count": 15,
   "metadata": {},
   "outputs": [],
   "source": [
    "# Customized transformer: Inherenting BaseEstimator and TransformerMixin class\n",
    "# The former gives us get_params and set_params methods, \n",
    "# and the latter gives us fit_transform\n",
    "from sklearn.base import BaseEstimator, TransformerMixin\n",
    "from sklearn.cluster import KMeans\n",
    "\n",
    "class CustomizedTransformer(BaseEstimator, TransformerMixin):\n",
    "    def __init__(self):\n",
    "        self.cat_features = ['agency_name', 'inspector_name', \n",
    "                            'violation_code', 'disposition']\n",
    "        \n",
    "    def fit(self, X, y=None):\n",
    "        # Compute the median wait time between hearing date and ticket issued date\n",
    "        self.median_wait_time = (X['hearing_date'] - X['ticket_issued_date']).median()\n",
    "        \n",
    "        self.common_categories = []\n",
    "        for col in self.cat_features:\n",
    "            # Select categories appearing more than 5% of the time\n",
    "            com_cat = X[col].value_counts()/len(X) > 0.05\n",
    "            com_cat = list(com_cat[com_cat == True].index)\n",
    "            self.common_categories.append(com_cat)\n",
    "            \n",
    "        # Cluster locations based on lat and lon\n",
    "        self.kmeans = KMeans(n_clusters=20).fit(X[['lat', 'lon']])\n",
    "        # Record mean of lat and lon\n",
    "        self.lat_mean = X['lat'].mean()\n",
    "        self.lon_mean = X['lon'].mean()\n",
    "        \n",
    "        return self\n",
    "    \n",
    "    def transform(self, X, y=None):\n",
    "        X = X.copy()\n",
    "        # Impute missing hearing date using median wait time\n",
    "        X['hearing_date'] = X['hearing_date'].fillna(\n",
    "            X['ticket_issued_date'] + self.median_wait_time)\n",
    "        \n",
    "        # Add datetime-related features\n",
    "        X['wait_time'] = (X['hearing_date'] - X['ticket_issued_date']).dt.days\n",
    "        \n",
    "        X['ticket_date_month'] = X['ticket_issued_date'].dt.month\n",
    "        X['ticket_date_week'] = X['ticket_issued_date'].dt.isocalendar().week\n",
    "        X['ticket_date_day'] = X['ticket_issued_date'].dt.day\n",
    "        X['ticket_date_hour'] = X['ticket_issued_date'].dt.hour\n",
    "        X['ticket_date_dayofweek'] = X['ticket_issued_date'].dt.dayofweek\n",
    "        \n",
    "        X['hearing_date_month'] = X['hearing_date'].dt.month\n",
    "        X['hearing_date_week'] = X['hearing_date'].dt.isocalendar().week\n",
    "        X['hearing_date_day'] = X['hearing_date'].dt.day\n",
    "        X['hearing_date_hour'] = X['hearing_date'].dt.hour\n",
    "        X['hearing_date_dayofweek'] = X['hearing_date'].dt.dayofweek\n",
    "        \n",
    "        # Drop datetime features that are not compatible with the model\n",
    "        X = X.drop(['hearing_date', 'ticket_issued_date'], axis=1)\n",
    "        \n",
    "        for i, col in enumerate(self.cat_features):\n",
    "            com_cat = self.common_categories[i]\n",
    "            # Replace uncommon categories and NaN with 'rare' \n",
    "            X[col] = X[col].apply(lambda c: c if c in com_cat else 'rare')\n",
    "            X[col] = X[col].fillna('rare')\n",
    "            \n",
    "        # Cluster locations\n",
    "        X['cluster'] = self.kmeans.predict(X[['lat', 'lon']])\n",
    "        # Add product of lat and lon to capture more spatial information\n",
    "        X['xy'] = (X['lat'] - self.lat_mean) * (X['lon'] - self.lon_mean)\n",
    "        X['r'] = np.sqrt((X['lat'] - self.lat_mean)**2 + (X['lon'] - self.lon_mean)**2)\n",
    "        X['theta'] = np.arctan(X['lon'] / X['lat'])\n",
    "        \n",
    "        return X"
   ]
  },
  {
   "cell_type": "markdown",
   "metadata": {},
   "source": [
    "# 3. Model Selection\n",
    "\n",
    "In this section, I tried out several classifiers (Naive Bayes, Logistic Regression, Random Forset, Bradient Boosting, and XGBoost) with their default parameters using stratified 5-fold cross validation, and then chose the best ones for further hyperparameter optimization. \n",
    "<br><br>\n",
    "Again, we build a pipeline to avoid data leakage during the cross validation. The first step in the pipeline is to transform the data using the customized transformer built in the previous section. Then, I transform the categorical features using `OneHotEncoder`, and scale the numeric features using `MinMaxScaler`. These are wrapped in `preprocessor` using `ColumnTransformer`. At this point, the data are transformed into a sparse matrix, not accepted by some classifiers, so we transform it back to a dense matrix using `FunctionTransformer`. Lastly, we pass in the classifiers with default setting."
   ]
  },
  {
   "cell_type": "code",
   "execution_count": 16,
   "metadata": {},
   "outputs": [],
   "source": [
    "# Pipeline, transformer, scaler\n",
    "from sklearn.pipeline import Pipeline\n",
    "from sklearn.preprocessing import OneHotEncoder, MinMaxScaler, FunctionTransformer\n",
    "from sklearn.compose import ColumnTransformer\n",
    "# For cross validation\n",
    "from sklearn.model_selection import train_test_split, StratifiedKFold, cross_validate\n",
    "# To calculate roc_auc scores\n",
    "from sklearn.metrics import roc_auc_score, roc_curve\n",
    "# To dra confusion matrix\n",
    "from sklearn.metrics import plot_confusion_matrix \n",
    "\n",
    "# Classifiers to test\n",
    "from sklearn.naive_bayes import GaussianNB\n",
    "from sklearn.linear_model import LogisticRegression\n",
    "from sklearn.ensemble import RandomForestClassifier, GradientBoostingClassifier\n",
    "from xgboost import XGBClassifier\n",
    "\n",
    "# For simple plots\n",
    "import matplotlib.pyplot as plt"
   ]
  },
  {
   "cell_type": "code",
   "execution_count": 17,
   "metadata": {},
   "outputs": [],
   "source": [
    "### Train-test split\n",
    "y = train['compliance'].copy()\n",
    "X = train.drop('compliance', axis=1).copy()\n",
    "# Becase the data is inbalanced, we use stratified train_test_split to \n",
    "# ensure similar proportions of compliance in the train and test sets\n",
    "X_train, X_test, y_train, y_test = train_test_split(X, y, stratify = y)\n",
    "\n",
    "### Pipeline:\n",
    "# 1. Transform data using CustomizedTransformer\n",
    "# 2. One hot encoder for categorical features\n",
    "# 3. Try out a couple classifiers\n",
    "\n",
    "# List of numeric and categorical features\n",
    "numeric_features = ['fine_amount', 'discount_amount', 'judgment_amount', \n",
    "                    'lat', 'lon', 'wait_time', 'xy', 'r', 'theta']\n",
    "categorical_features = list(set(CustomizedTransformer().fit_transform(X).columns) \\\n",
    "                        - set(numeric_features))\n",
    "\n",
    "# One hot encoder\n",
    "ohe = OneHotEncoder(handle_unknown = 'ignore')\n",
    "\n",
    "# Preprocessor: OneHotEncoder for categorical features, \n",
    "# MinMaxScaler for numeric features\n",
    "preprocessor = ColumnTransformer(\n",
    "                        transformers = [('cat', ohe, categorical_features), \n",
    "                                        ('num', MinMaxScaler(), numeric_features)\n",
    "                                        ])\n",
    "\n",
    "# Classifiers to test\n",
    "classifiers = [GaussianNB(),\n",
    "               LogisticRegression(),  \n",
    "               RandomForestClassifier(), \n",
    "               GradientBoostingClassifier(),\n",
    "               XGBClassifier()]"
   ]
  },
  {
   "cell_type": "code",
   "execution_count": 18,
   "metadata": {},
   "outputs": [
    {
     "name": "stdout",
     "output_type": "stream",
     "text": [
      "AUC_train for GaussianNB = 0.757\n",
      "AUC_cross_val for GaussianNB = 0.748\n",
      "AUC_train for LogisticRegression = 0.805\n",
      "AUC_cross_val for LogisticRegression = 0.793\n",
      "AUC_train for RandomForestClassifier = 1.000\n",
      "AUC_cross_val for RandomForestClassifier = 0.827\n",
      "AUC_train for GradientBoostingClassifier = 0.828\n",
      "AUC_cross_val for GradientBoostingClassifier = 0.819\n",
      "AUC_train for XGBClassifier = 0.927\n",
      "AUC_cross_val for XGBClassifier = 0.831\n"
     ]
    }
   ],
   "source": [
    "for clf in classifiers:\n",
    "    pipe = Pipeline(steps = [('transformer', CustomizedTransformer()),\n",
    "                             ('ohe_scaler', preprocessor),\n",
    "                             # Convert sparse matrix to dense matrix: some classifiers \n",
    "                             # throw error messages when seeing a sparse matrix. \n",
    "                             ('todense', FunctionTransformer(lambda x: x.todense(), \n",
    "                                                     accept_sparse = True)),\n",
    "                             ('clf', clf)\n",
    "                            ])\n",
    "    \n",
    "    scores = cross_validate(pipe, X_train, y_train, scoring='roc_auc', \n",
    "                            cv=StratifiedKFold(), n_jobs=-1, return_train_score=True)\n",
    "\n",
    "    print('AUC_train for {} = {:.3f}'.format(str(clf).split('(')[0], \n",
    "                                             scores['train_score'].mean()))\n",
    "    print('AUC_cross_val for {} = {:.3f}'.format(str(clf).split('(')[0], \n",
    "                                            scores['test_score'].mean()))"
   ]
  },
  {
   "cell_type": "markdown",
   "metadata": {},
   "source": [
    "I tested 5 algorithms using default parameters. Naive Bayes mostly serves as a baseline, and it not surprisingly performs worst here. The best cross validation scores come from Random Forest and XGBoost, so I will focus on these two and tune the hyperparameters for even better fits. We see that for both algorithms, the train scores are significantly higher than the cross validation scores, indicating overfits.\n",
    "\n",
    "# 4. Hyperparameter Optimization\n",
    "\n",
    "## 4.1. Random Forest"
   ]
  },
  {
   "cell_type": "code",
   "execution_count": 19,
   "metadata": {},
   "outputs": [],
   "source": [
    "from sklearn.model_selection import GridSearchCV"
   ]
  },
  {
   "cell_type": "markdown",
   "metadata": {},
   "source": [
    "Let's first look at the default parameters. This would be the starting point of the tuning. Because the model appears to be overfitting, we will try to reduce the complexity of the model to make the model generalize better."
   ]
  },
  {
   "cell_type": "code",
   "execution_count": 20,
   "metadata": {},
   "outputs": [
    {
     "data": {
      "text/plain": [
       "{'bootstrap': True,\n",
       " 'ccp_alpha': 0.0,\n",
       " 'class_weight': None,\n",
       " 'criterion': 'gini',\n",
       " 'max_depth': None,\n",
       " 'max_features': 'auto',\n",
       " 'max_leaf_nodes': None,\n",
       " 'max_samples': None,\n",
       " 'min_impurity_decrease': 0.0,\n",
       " 'min_impurity_split': None,\n",
       " 'min_samples_leaf': 1,\n",
       " 'min_samples_split': 2,\n",
       " 'min_weight_fraction_leaf': 0.0,\n",
       " 'n_estimators': 100,\n",
       " 'n_jobs': None,\n",
       " 'oob_score': False,\n",
       " 'random_state': None,\n",
       " 'verbose': 0,\n",
       " 'warm_start': False}"
      ]
     },
     "execution_count": 20,
     "metadata": {},
     "output_type": "execute_result"
    }
   ],
   "source": [
    "RandomForestClassifier().get_params()"
   ]
  },
  {
   "cell_type": "markdown",
   "metadata": {},
   "source": [
    "Let's run the default Random Forest model again, and plot the confusion matrix. We will compare the roc_auc scores and the confusion matrix before and after the optimization."
   ]
  },
  {
   "cell_type": "code",
   "execution_count": 21,
   "metadata": {},
   "outputs": [],
   "source": [
    "clf_rf = RandomForestClassifier(n_jobs=-1)\n",
    "pipe_rf = Pipeline(steps = [('transformer', CustomizedTransformer()),\n",
    "                        ('ohe_scaler', preprocessor),\n",
    "                        ('todense', FunctionTransformer(lambda x: x.todense(), \n",
    "                                                accept_sparse = True)),\n",
    "                        ('clf', clf_rf)\n",
    "                        ])\n",
    "    \n",
    "pipe_rf.fit(X_train, y_train)\n",
    "y_test_pred_before = pipe_rf.predict_proba(X_test)[:,1] # For comparing ROC curves"
   ]
  },
  {
   "cell_type": "code",
   "execution_count": 22,
   "metadata": {},
   "outputs": [
    {
     "data": {
      "image/png": "[encoded data removed]",
      "text/plain": [
       "<Figure size 432x288 with 2 Axes>"
      ]
     },
     "metadata": {
      "needs_background": "light"
     },
     "output_type": "display_data"
    }
   ],
   "source": [
    "plot_confusion_matrix(pipe_rf, X_test, y_test, display_labels = \n",
    "                      ['Not paid on time', 'Paid on time']);"
   ]
  },
  {
   "cell_type": "markdown",
   "metadata": {},
   "source": [
    "(The numbers might change slightly due to the randomization.)\n",
    "<br>\n",
    "Using the default parameters, of the **36768 + 303 = 37071** people who didn't pay the ticket on time, **36768 (99.18%)** are correctly classified. Of the **1944 + 955 = 2899** people who paid on time, only **955 (32.94%)** are correctly classified.\n",
    "<br><br>\n",
    "Next, I vary a couple important hyperparameters one by one, and plot out their effects to the roc_auc scores. I will choose the best parameter to plug in the model, and then scan the next parameter. \n",
    "<br><br>\n",
    "Note that since I have rerun the whole notebook, the chosen best parameter might not be the same as the one that appears to be the best this time, although the chosen one would still be almost as good. A fixed random seed would eliminate the randomness. "
   ]
  },
  {
   "cell_type": "code",
   "execution_count": 23,
   "metadata": {},
   "outputs": [],
   "source": [
    "# Number of trees in the forest\n",
    "n_estimators = [100, 300, 500, 750, 1000, 1500, 2000]\n",
    "\n",
    "train_scores = [] \n",
    "test_scores = []\n",
    "\n",
    "# Create one random forest per value for n_estimators \n",
    "for n_estimator in n_estimators:\n",
    "    clf_rf = RandomForestClassifier(n_estimators=n_estimator, \n",
    "                                    max_samples=0.7, n_jobs=-1)\n",
    "    \n",
    "    pipe_rf = Pipeline(steps = [('transformer', CustomizedTransformer()),\n",
    "                        ('ohe_scaler', preprocessor),\n",
    "                        ('todense', FunctionTransformer(lambda x: x.todense(), \n",
    "                                                accept_sparse = True)),\n",
    "                        ('clf', clf_rf)\n",
    "                        ])\n",
    "    \n",
    "    pipe_rf.fit(X_train, y_train)\n",
    "    \n",
    "    y_train_pred = pipe_rf.predict_proba(X_train)[:,1]\n",
    "    y_test_pred = pipe_rf.predict_proba(X_test)[:,1]\n",
    "\n",
    "    train_score = roc_auc_score(y_train, y_train_pred)\n",
    "    test_score = roc_auc_score(y_test, y_test_pred)\n",
    "    \n",
    "    train_scores.append(train_score)\n",
    "    test_scores.append(test_score)"
   ]
  },
  {
   "cell_type": "code",
   "execution_count": 24,
   "metadata": {},
   "outputs": [
    {
     "data": {
      "image/png": "[encoded data removed]",
      "text/plain": [
       "<Figure size 432x288 with 1 Axes>"
      ]
     },
     "metadata": {
      "needs_background": "light"
     },
     "output_type": "display_data"
    }
   ],
   "source": [
    "fig, ax = plt.subplots()\n",
    "ax.set_xlabel('n_estimators')\n",
    "ax.set_ylabel('ROC AUC')\n",
    "ax.set_title('ROC AUC vs n_estimators for training and testing sets')\n",
    "ax.plot(n_estimators, train_scores, marker='o', label='train')\n",
    "ax.plot(n_estimators, test_scores, marker='o', label='test')\n",
    "ax.legend()\n",
    "plt.show()"
   ]
  },
  {
   "cell_type": "code",
   "execution_count": 25,
   "metadata": {},
   "outputs": [],
   "source": [
    "# Cost complexity pruning\n",
    "ccp_alphas = [0, 4e-6, 8e-6, 1e-5, 1.2e-5, 1.4e-5, 1.6e-5, 2e-5, 2.4e-5]\n",
    "\n",
    "train_scores = [] \n",
    "test_scores = []\n",
    "\n",
    "# Create one random forest per value for ccp_alpha\n",
    "for ccp_alpha in ccp_alphas:\n",
    "    clf_rf = RandomForestClassifier(ccp_alpha = ccp_alpha, \n",
    "                                    n_estimators = 1000,\n",
    "                                    max_samples=0.7, n_jobs=-1)\n",
    "    \n",
    "    pipe_rf = Pipeline(steps = [('transformer', CustomizedTransformer()),\n",
    "                        ('ohe_scaler', preprocessor),\n",
    "                        ('todense', FunctionTransformer(lambda x: x.todense(), \n",
    "                                                accept_sparse = True)),\n",
    "                        ('clf', clf_rf)\n",
    "                        ])\n",
    "    \n",
    "    pipe_rf.fit(X_train, y_train)\n",
    "    \n",
    "    y_train_pred = pipe_rf.predict_proba(X_train)[:,1]\n",
    "    y_test_pred = pipe_rf.predict_proba(X_test)[:,1]\n",
    "\n",
    "    train_score = roc_auc_score(y_train, y_train_pred)\n",
    "    test_score = roc_auc_score(y_test, y_test_pred)\n",
    "    \n",
    "    train_scores.append(train_score)\n",
    "    test_scores.append(test_score)"
   ]
  },
  {
   "cell_type": "code",
   "execution_count": 26,
   "metadata": {
    "scrolled": true
   },
   "outputs": [
    {
     "data": {
      "image/png": "[encoded data removed]",
      "text/plain": [
       "<Figure size 432x288 with 1 Axes>"
      ]
     },
     "metadata": {
      "needs_background": "light"
     },
     "output_type": "display_data"
    }
   ],
   "source": [
    "fig, ax = plt.subplots()\n",
    "ax.set_xlabel('ccp_alpha')\n",
    "ax.set_ylabel('ROC AUC')\n",
    "ax.set_title('ROC AUC vs ccp_alpha for training and testing sets')\n",
    "ax.plot(ccp_alphas, train_scores, marker='o', label='train')\n",
    "ax.plot(ccp_alphas, test_scores, marker='o', label='test')\n",
    "ax.legend()\n",
    "plt.show()"
   ]
  },
  {
   "cell_type": "code",
   "execution_count": 27,
   "metadata": {},
   "outputs": [],
   "source": [
    "# Max number of features considered for splitting a node\n",
    "max_features = [7, 8, 9, 10, 11, 12, 13, 14, 15, 20]\n",
    "\n",
    "train_scores = [] \n",
    "test_scores = []\n",
    "\n",
    "# Create one random forest per value for max_features\n",
    "for max_feature in max_features:\n",
    "    clf_rf = RandomForestClassifier(max_features=max_feature,\n",
    "                                    ccp_alpha = 1.2e-5, n_estimators = 1000,\n",
    "                                    max_samples=0.7, n_jobs=-1)\n",
    "    \n",
    "    pipe_rf = Pipeline(steps = [('transformer', CustomizedTransformer()),\n",
    "                        ('ohe_scaler', preprocessor),\n",
    "                        ('todense', FunctionTransformer(lambda x: x.todense(), \n",
    "                                                accept_sparse = True)),\n",
    "                        ('clf', clf_rf)\n",
    "                        ])\n",
    "    \n",
    "    pipe_rf.fit(X_train, y_train)\n",
    "    \n",
    "    y_train_pred = pipe_rf.predict_proba(X_train)[:,1]\n",
    "    y_test_pred = pipe_rf.predict_proba(X_test)[:,1]\n",
    "\n",
    "    train_score = roc_auc_score(y_train, y_train_pred)\n",
    "    test_score = roc_auc_score(y_test, y_test_pred)\n",
    "    \n",
    "    train_scores.append(train_score)\n",
    "    test_scores.append(test_score)"
   ]
  },
  {
   "cell_type": "code",
   "execution_count": 28,
   "metadata": {},
   "outputs": [
    {
     "data": {
      "image/png": "[encoded data removed]",
      "text/plain": [
       "<Figure size 432x288 with 1 Axes>"
      ]
     },
     "metadata": {
      "needs_background": "light"
     },
     "output_type": "display_data"
    }
   ],
   "source": [
    "fig, ax = plt.subplots()\n",
    "ax.set_xlabel('max_features')\n",
    "ax.set_ylabel('ROC AUC')\n",
    "ax.set_title('ROC AUC vs max_features for training and testing sets')\n",
    "ax.plot(max_features, train_scores, marker='o', label='train')\n",
    "ax.plot(max_features, test_scores, marker='o', label='test')\n",
    "ax.legend()\n",
    "plt.show()"
   ]
  },
  {
   "cell_type": "code",
   "execution_count": 29,
   "metadata": {},
   "outputs": [],
   "source": [
    "# Min number of samples required to split a node\n",
    "min_samples_splits = [2, 3, 4, 5, 6, 10, 15]\n",
    "\n",
    "train_scores = [] \n",
    "test_scores = []\n",
    "\n",
    "# Create one random forest per value for min_samples_split\n",
    "for min_samples_split in min_samples_splits:\n",
    "    clf_rf = RandomForestClassifier(min_samples_split = min_samples_split, \n",
    "                                    max_features = 9,\n",
    "                                    ccp_alpha = 1.2e-5, n_estimators = 1000, \n",
    "                                    max_samples=0.7, n_jobs=-1)\n",
    "    \n",
    "    pipe_rf = Pipeline(steps = [('transformer', CustomizedTransformer()),\n",
    "                        ('ohe_scaler', preprocessor),\n",
    "                        ('todense', FunctionTransformer(lambda x: x.todense(), \n",
    "                                                accept_sparse = True)),\n",
    "                        ('clf', clf_rf)\n",
    "                        ])\n",
    "    \n",
    "    pipe_rf.fit(X_train, y_train)\n",
    "    \n",
    "    y_train_pred = pipe_rf.predict_proba(X_train)[:,1]\n",
    "    y_test_pred = pipe_rf.predict_proba(X_test)[:,1]\n",
    "\n",
    "    train_score = roc_auc_score(y_train, y_train_pred)\n",
    "    test_score = roc_auc_score(y_test, y_test_pred)\n",
    "    \n",
    "    train_scores.append(train_score)\n",
    "    test_scores.append(test_score)"
   ]
  },
  {
   "cell_type": "code",
   "execution_count": 30,
   "metadata": {},
   "outputs": [
    {
     "data": {
      "image/png": "[encoded data removed]",
      "text/plain": [
       "<Figure size 432x288 with 1 Axes>"
      ]
     },
     "metadata": {
      "needs_background": "light"
     },
     "output_type": "display_data"
    }
   ],
   "source": [
    "fig, ax = plt.subplots()\n",
    "ax.set_xlabel('min_samples_split')\n",
    "ax.set_ylabel('ROC AUC')\n",
    "ax.set_title('ROC AUC vs min_samples_split for training and testing sets')\n",
    "ax.plot(min_samples_splits, train_scores, marker='o', label='train')\n",
    "ax.plot(min_samples_splits, test_scores, marker='o', label='test')\n",
    "\n",
    "ax.legend()\n",
    "plt.show()"
   ]
  },
  {
   "cell_type": "markdown",
   "metadata": {},
   "source": [
    "Now that we get a good understanding of the rough ranges of each parameter, we can do a grid search CV to search the best combination. However, because this is a pretty big data set and the `GridSearchCV` takes a significant amount of time to run, I'm going to skip this step and just use the best parameters I get so far. "
   ]
  },
  {
   "cell_type": "code",
   "execution_count": 31,
   "metadata": {},
   "outputs": [],
   "source": [
    "# clf_rf = RandomForestClassifier(n_jobs = -1)\n",
    "\n",
    "# pipe = Pipeline(steps = [('transformer', CustomizedTransformer()),\n",
    "#                         ('ohe_scaler', preprocessor),\n",
    "#                         ('todense', FunctionTransformer(lambda x: x.todense(), \n",
    "#                                                 accept_sparse = True)),\n",
    "#                         ('clf', clf_rf)\n",
    "#                         ])\n",
    "\n",
    "# param_grid = {'clf__n_estimators': [750, 1000, 1500],\n",
    "#               'clf__ccp_alpha': [1e-5, 1.2e-5, 1.4e-5],\n",
    "#               'clf__max_features': [8, 9, 10],\n",
    "#               'clf__min_samples_split': [2, 3, 4]}\n",
    "\n",
    "# search = GridSearchCV(pipe, param_grid, scoring = 'roc_auc', cv = StratifiedKFold(), \n",
    "#                       verbose = 2)\n",
    "# search.fit(X_train, y_train)\n",
    "# print('Random forest best parameter (CV score = {:3f}):'.format(search.best_score_))\n",
    "# print(search.best_params_)"
   ]
  },
  {
   "cell_type": "code",
   "execution_count": 32,
   "metadata": {},
   "outputs": [
    {
     "name": "stdout",
     "output_type": "stream",
     "text": [
      "AUC_train for optimized Random Forest = 0.994\n",
      "AUC_cross_val for optimized Random Forest = 0.845\n"
     ]
    }
   ],
   "source": [
    "clf_rf = RandomForestClassifier(min_samples_split = 2, max_features = 9,\n",
    "                                ccp_alpha = 1.2e-5, n_estimators = 750, n_jobs = -1)\n",
    "pipe_rf = Pipeline(steps = [('transformer', CustomizedTransformer()),\n",
    "                        ('ohe_scaler', preprocessor),\n",
    "                        ('todense', FunctionTransformer(lambda x: x.todense(), \n",
    "                                                accept_sparse = True)),\n",
    "                        ('clf', clf_rf)\n",
    "                        ])\n",
    "    \n",
    "scores = cross_validate(pipe_rf, X_train, y_train, scoring='roc_auc', \n",
    "                        cv=StratifiedKFold(), return_train_score=True)\n",
    "\n",
    "print('AUC_train for optimized Random Forest = {:.3f}'.format(\n",
    "                                                        scores['train_score'].mean()))\n",
    "print('AUC_cross_val for optimized Random Forest = {:.3f}'.format(\n",
    "                                                        scores['test_score'].mean()))"
   ]
  },
  {
   "cell_type": "code",
   "execution_count": 33,
   "metadata": {},
   "outputs": [
    {
     "data": {
      "image/png": "[encoded data removed]",
      "text/plain": [
       "<Figure size 432x288 with 2 Axes>"
      ]
     },
     "metadata": {
      "needs_background": "light"
     },
     "output_type": "display_data"
    }
   ],
   "source": [
    "pipe_rf.fit(X_train, y_train)\n",
    "plot_confusion_matrix(pipe_rf, X_test, y_test, display_labels = \n",
    "                      ['Not paid on time', 'Paid on time']);"
   ]
  },
  {
   "cell_type": "markdown",
   "metadata": {},
   "source": [
    "After the optimization, the cross validation roc_auc score increased significantly from **0.827** to **0.845**!\n",
    "<br><br>\n",
    "Looking at the new confusion matrix, of the **37071** people who didn't pay the ticket on time, **36994 (99.79%)** are correctly classified (true negative rate). Of the **2899** people who paid on time, **812 (28.00%)** are correctly classified (true positive rate).\n",
    "<br><br> \n",
    "The false positive rate is **FP / (FP + TN) = 77 / (77 + 36994) = 0.23%**, so the threshold we use now corresponds to the point **(FPR, TPR) = (0.0023, 0.2800)** in the following ROC curve plot. Right now, the model does really well on classifying the 'Not paid on time' cases, which should be important for the purpose of this model, since we want to understand why people don't pay the fine on time. However, we can always increase the true positive rate to better classify the cases of 'Paid on time' at the cost of a increasing false positive rate, illustrated in the following ROC curve, by changing the threshold.\n",
    "<br><br>\n",
    "Lastly, we visualize the improvement of hyperparameter tuning by plotting out the ROC curves before and after the optimization. The new curve is more to the upper-left (larger area under curve), and thus represents a better model."
   ]
  },
  {
   "cell_type": "code",
   "execution_count": 34,
   "metadata": {},
   "outputs": [
    {
     "data": {
      "image/png": "[encoded data removed]",
      "text/plain": [
       "<Figure size 432x288 with 1 Axes>"
      ]
     },
     "metadata": {
      "needs_background": "light"
     },
     "output_type": "display_data"
    }
   ],
   "source": [
    "y_test_pred = pipe_rf.predict_proba(X_test)[:,1]\n",
    "fpr_rf_before, tpr_rf_before, _ = roc_curve(y_test, y_test_pred_before)\n",
    "fpr_rf, tpr_rf, _ = roc_curve(y_test, y_test_pred)\n",
    "\n",
    "fig, ax = plt.subplots()\n",
    "ax.set_xlabel('False Positive Rate')\n",
    "ax.set_ylabel('True Positive Rate')\n",
    "ax.set_title('ROC curve for Random Forest')\n",
    "ax.plot(fpr_rf_before, tpr_rf_before, label='before')\n",
    "ax.plot(fpr_rf, tpr_rf, label='after')\n",
    "ax.legend()\n",
    "ax.plot([0, 1], [0, 1], ':', c='grey');"
   ]
  },
  {
   "cell_type": "markdown",
   "metadata": {},
   "source": [
    "## 4.2. XGBoost\n",
    "\n",
    "Then, we do the same with the XGBoost Classifier."
   ]
  },
  {
   "cell_type": "code",
   "execution_count": 35,
   "metadata": {},
   "outputs": [],
   "source": [
    "clf_xgb = XGBClassifier(objective='binary:logistic',\n",
    "                            eval_metric='auc', use_label_encoder=False)\n",
    "\n",
    "pipe_xgb = Pipeline(steps = [('transformer', CustomizedTransformer()),\n",
    "                        ('ohe_scaler', preprocessor),\n",
    "                        ('clf', clf_xgb)\n",
    "                        ])\n",
    "\n",
    "pipe_xgb.fit(X_train, y_train)\n",
    "y_test_pred_before = pipe_xgb.predict_proba(X_test)[:,1] # For comparing ROC curves"
   ]
  },
  {
   "cell_type": "code",
   "execution_count": 36,
   "metadata": {
    "scrolled": true
   },
   "outputs": [
    {
     "data": {
      "image/png": "[encoded data removed]",
      "text/plain": [
       "<Figure size 432x288 with 2 Axes>"
      ]
     },
     "metadata": {
      "needs_background": "light"
     },
     "output_type": "display_data"
    }
   ],
   "source": [
    "plot_confusion_matrix(pipe_xgb, X_test, y_test, display_labels = \n",
    "                      ['Not paid on time', 'Paid on time']);"
   ]
  },
  {
   "cell_type": "markdown",
   "metadata": {},
   "source": [
    "(The numbers might change slightly due to the randomization.)\n",
    "<br>\n",
    "Using the default parameters, of the **36940 + 131 = 37071** people who didn't pay the ticket on time, **36940 (99.65%)** are correctly classified. Of the **2062 + 837 = 2899** people who paid on time, only **837 (28.87%)** are correctly classified.\n",
    "<br><br>\n",
    "I also tried to vary parameters one by one. However, I found that the hyperparameters had little effects on the roc_auc scores."
   ]
  },
  {
   "cell_type": "code",
   "execution_count": 37,
   "metadata": {},
   "outputs": [],
   "source": [
    "# Number of trees in the forest\n",
    "n_estimators = [100, 300, 500, 750, 1000, 1500]\n",
    "\n",
    "train_scores = [] \n",
    "test_scores = []\n",
    "\n",
    "## now create one xgboost per value for n_estimators \n",
    "for n_estimator in n_estimators:\n",
    "    clf_xgb = XGBClassifier(n_estimators = n_estimator,\n",
    "                        objective='binary:logistic', eval_metric='auc', \n",
    "                        use_label_encoder=False, n_jobs=-1)\n",
    "    \n",
    "    pipe_xgb = Pipeline(steps = [('transformer', CustomizedTransformer()),\n",
    "                        ('ohe_scaler', preprocessor),\n",
    "                        ('clf', clf_xgb)\n",
    "                        ])\n",
    "    \n",
    "    pipe_xgb.fit(X_train, y_train)\n",
    "    \n",
    "    y_train_pred = pipe_xgb.predict_proba(X_train)[:,1]\n",
    "    y_test_pred = pipe_xgb.predict_proba(X_test)[:,1]\n",
    "\n",
    "    train_score = roc_auc_score(y_train, y_train_pred)\n",
    "    test_score = roc_auc_score(y_test, y_test_pred)\n",
    "    \n",
    "    train_scores.append(train_score)\n",
    "    test_scores.append(test_score)"
   ]
  },
  {
   "cell_type": "code",
   "execution_count": 38,
   "metadata": {},
   "outputs": [
    {
     "data": {
      "image/png": "[encoded data removed]",
      "text/plain": [
       "<Figure size 432x288 with 1 Axes>"
      ]
     },
     "metadata": {
      "needs_background": "light"
     },
     "output_type": "display_data"
    }
   ],
   "source": [
    "fig, ax = plt.subplots()\n",
    "ax.set_xlabel('n_estimators')\n",
    "ax.set_ylabel('ROC AUC')\n",
    "ax.set_title('ROC AUC vs n_estimators for training and testing sets')\n",
    "ax.plot(n_estimators, train_scores, marker='o', label='train')\n",
    "ax.plot(n_estimators, test_scores, marker='o', label='test')\n",
    "ax.legend()\n",
    "plt.show()"
   ]
  },
  {
   "cell_type": "code",
   "execution_count": 39,
   "metadata": {},
   "outputs": [],
   "source": [
    "# Max depths of a tree\n",
    "max_depths = [5, 8, 9, 10, 11, 12, 15, 25]\n",
    "\n",
    "train_scores = [] \n",
    "test_scores = []\n",
    "\n",
    "## now create one xgboost per value for max_depth \n",
    "for max_depth in max_depths:\n",
    "    clf_xgb = XGBClassifier(max_depth = max_depth,\n",
    "                            n_estimators = 500,\n",
    "                            objective='binary:logistic', eval_metric='auc', \n",
    "                            use_label_encoder=False, n_jobs=-1)\n",
    "    \n",
    "    pipe_xgb = Pipeline(steps = [('transformer', CustomizedTransformer()),\n",
    "                        ('ohe_scaler', preprocessor),\n",
    "                        ('clf', clf_xgb)\n",
    "                        ])\n",
    "    \n",
    "    pipe_xgb.fit(X_train, y_train)\n",
    "    \n",
    "    y_train_pred = pipe_xgb.predict_proba(X_train)[:,1]\n",
    "    y_test_pred = pipe_xgb.predict_proba(X_test)[:,1]\n",
    "\n",
    "    train_score = roc_auc_score(y_train, y_train_pred)\n",
    "    test_score = roc_auc_score(y_test, y_test_pred)\n",
    "    \n",
    "    train_scores.append(train_score)\n",
    "    test_scores.append(test_score)"
   ]
  },
  {
   "cell_type": "code",
   "execution_count": 40,
   "metadata": {},
   "outputs": [
    {
     "data": {
      "image/png": "[encoded data removed]",
      "text/plain": [
       "<Figure size 432x288 with 1 Axes>"
      ]
     },
     "metadata": {
      "needs_background": "light"
     },
     "output_type": "display_data"
    }
   ],
   "source": [
    "fig, ax = plt.subplots()\n",
    "ax.set_xlabel('Max depth')\n",
    "ax.set_ylabel('ROC AUC')\n",
    "ax.set_title('ROC AUC vs Max depth for training and testing sets')\n",
    "ax.plot(max_depths, train_scores, marker='o', label='train')\n",
    "ax.plot(max_depths, test_scores, marker='o', label='test')\n",
    "ax.legend()\n",
    "plt.show()"
   ]
  },
  {
   "cell_type": "code",
   "execution_count": 41,
   "metadata": {},
   "outputs": [],
   "source": [
    "# Min loss reduction required to further split a node\n",
    "gammas = [0, 0.2, 0.4, 0.6, 1]\n",
    "\n",
    "train_scores = [] \n",
    "test_scores = []\n",
    "\n",
    "## now create one xgboost per value for gamma \n",
    "for gamma in gammas:\n",
    "    clf_xgb = XGBClassifier(gamma = gamma, \n",
    "                            max_depth = 11, n_estimators = 500, \n",
    "                            objective='binary:logistic', eval_metric='auc', \n",
    "                            use_label_encoder=False, n_jobs=-1)\n",
    "    \n",
    "    pipe_xgb = Pipeline(steps = [('transformer', CustomizedTransformer()),\n",
    "                        ('ohe_scaler', preprocessor),\n",
    "                        ('clf', clf_xgb)\n",
    "                        ])\n",
    "    \n",
    "    pipe_xgb.fit(X_train, y_train)\n",
    "    \n",
    "    y_train_pred = pipe_xgb.predict_proba(X_train)[:,1]\n",
    "    y_test_pred = pipe_xgb.predict_proba(X_test)[:,1]\n",
    "\n",
    "    train_score = roc_auc_score(y_train, y_train_pred)\n",
    "    test_score = roc_auc_score(y_test, y_test_pred)\n",
    "    \n",
    "    train_scores.append(train_score)\n",
    "    test_scores.append(test_score)"
   ]
  },
  {
   "cell_type": "code",
   "execution_count": 42,
   "metadata": {},
   "outputs": [
    {
     "data": {
      "image/png": "[encoded data removed]",
      "text/plain": [
       "<Figure size 432x288 with 1 Axes>"
      ]
     },
     "metadata": {
      "needs_background": "light"
     },
     "output_type": "display_data"
    }
   ],
   "source": [
    "fig, ax = plt.subplots()\n",
    "ax.set_xlabel('gamma')\n",
    "ax.set_ylabel('ROC AUC')\n",
    "ax.set_title('ROC AUC vs gamma for training and testing sets')\n",
    "ax.plot(gammas, train_scores, marker='o', label='train')\n",
    "ax.plot(gammas, test_scores, marker='o', label='test')\n",
    "ax.legend()\n",
    "plt.show()"
   ]
  },
  {
   "cell_type": "code",
   "execution_count": 43,
   "metadata": {},
   "outputs": [],
   "source": [
    "# L2 regularization term on weights\n",
    "reg_lambdas = [0, 3, 4, 5, 6, 7, 10]\n",
    "\n",
    "train_scores = [] \n",
    "test_scores = []\n",
    "\n",
    "\n",
    "for reg_lambda in reg_lambdas:\n",
    "    clf_xgb = XGBClassifier(reg_lambda = reg_lambda, \n",
    "                            max_depth = 11, n_estimators = 500, \n",
    "                            objective='binary:logistic', eval_metric='auc', \n",
    "                            use_label_encoder=False, n_jobs=-1)\n",
    "    \n",
    "    pipe_xgb = Pipeline(steps = [('transformer', CustomizedTransformer()),\n",
    "                        ('ohe_scaler', preprocessor),\n",
    "                        ('clf', clf_xgb)\n",
    "                        ])\n",
    "    \n",
    "    pipe_xgb.fit(X_train, y_train)\n",
    "    \n",
    "    y_train_pred = pipe_xgb.predict_proba(X_train)[:,1]\n",
    "    y_test_pred = pipe_xgb.predict_proba(X_test)[:,1]\n",
    "\n",
    "    train_score = roc_auc_score(y_train, y_train_pred)\n",
    "    test_score = roc_auc_score(y_test, y_test_pred)\n",
    "    \n",
    "    train_scores.append(train_score)\n",
    "    test_scores.append(test_score)"
   ]
  },
  {
   "cell_type": "code",
   "execution_count": 44,
   "metadata": {
    "scrolled": true
   },
   "outputs": [
    {
     "data": {
      "image/png": "[encoded data removed]",
      "text/plain": [
       "<Figure size 432x288 with 1 Axes>"
      ]
     },
     "metadata": {
      "needs_background": "light"
     },
     "output_type": "display_data"
    }
   ],
   "source": [
    "fig, ax = plt.subplots()\n",
    "ax.set_xlabel('Reg lambda')\n",
    "ax.set_ylabel('ROC AUC')\n",
    "ax.set_title('ROC AUC vs Reg lambda for training and testing sets')\n",
    "ax.plot(reg_lambdas, train_scores, marker='o', label='train')\n",
    "ax.plot(reg_lambdas, test_scores, marker='o', label='test')\n",
    "ax.legend()\n",
    "plt.show()"
   ]
  },
  {
   "cell_type": "code",
   "execution_count": 45,
   "metadata": {},
   "outputs": [],
   "source": [
    "# Step size used in updates\n",
    "learning_rates = [0.01, 0.05, 0.1, 0.15, 0.2, 0.25]\n",
    "\n",
    "train_scores = [] \n",
    "test_scores = []\n",
    "\n",
    "\n",
    "for learning_rate in learning_rates:\n",
    "    clf_xgb = XGBClassifier(learning_rate = learning_rate,\n",
    "                            max_depth = 11, reg_lambda = 5, n_estimators = 500,\n",
    "                            objective='binary:logistic', eval_metric='auc', \n",
    "                            use_label_encoder=False, n_jobs=-1)\n",
    "    \n",
    "    pipe_xgb = Pipeline(steps = [('transformer', CustomizedTransformer()),\n",
    "                        ('ohe_scaler', preprocessor),\n",
    "                        ('clf', clf_xgb)\n",
    "                        ])\n",
    "    \n",
    "    pipe_xgb.fit(X_train, y_train)\n",
    "    \n",
    "    y_train_pred = pipe_xgb.predict_proba(X_train)[:,1]\n",
    "    y_test_pred = pipe_xgb.predict_proba(X_test)[:,1]\n",
    "\n",
    "    train_score = roc_auc_score(y_train, y_train_pred)\n",
    "    test_score = roc_auc_score(y_test, y_test_pred)\n",
    "    \n",
    "    train_scores.append(train_score)\n",
    "    test_scores.append(test_score)"
   ]
  },
  {
   "cell_type": "code",
   "execution_count": 46,
   "metadata": {},
   "outputs": [
    {
     "data": {
      "image/png": "[encoded data removed]",
      "text/plain": [
       "<Figure size 432x288 with 1 Axes>"
      ]
     },
     "metadata": {
      "needs_background": "light"
     },
     "output_type": "display_data"
    }
   ],
   "source": [
    "fig, ax = plt.subplots()\n",
    "ax.set_xlabel('Learning rate')\n",
    "ax.set_ylabel('ROC AUC')\n",
    "ax.set_title('ROC AUC vs Learning rate for training and testing sets')\n",
    "ax.plot(learning_rates, train_scores, marker='o', label='train')\n",
    "ax.plot(learning_rates, test_scores, marker='o', label='test')\n",
    "ax.legend()\n",
    "plt.show()"
   ]
  },
  {
   "cell_type": "markdown",
   "metadata": {},
   "source": [
    "Again, the grid search CV is skipped."
   ]
  },
  {
   "cell_type": "code",
   "execution_count": 47,
   "metadata": {},
   "outputs": [],
   "source": [
    "# clf_xgb = XGBClassifier(objective='binary:logistic', eval_metric='auc', \n",
    "#                         use_label_encoder=False, n_jobs=-1)\n",
    "\n",
    "# pipe_xgb = Pipeline(steps = [('transformer', CustomizedTransformer()),\n",
    "#                         ('ohe_scaler', preprocessor),\n",
    "#                         ('clf', clf_xgb)\n",
    "#                         ])\n",
    "\n",
    "# param_grid = {'clf__n_estimators': [500, 1000],\n",
    "#               'clf__max_depth': [10, 11, 12],\n",
    "#               'clf__learning_rate': [0.1, 0.15, 0.2],\n",
    "#               'clf__gamma': [0, 0.25, 0.5],\n",
    "#               'clf__reg_lambda': [3, 4, 5]}\n",
    "\n",
    "# search = GridSearchCV(pipe_xgb, param_grid, scoring = 'roc_auc', \n",
    "#                       cv = StratifiedKFold(n_splits=3), verbose = 0)\n",
    "\n",
    "# search.fit(X_train, y_train)\n",
    "# print('Random forest best parameter (CV score = {:3f}):'.format(search.best_score_))\n",
    "# print(search.best_params_)"
   ]
  },
  {
   "cell_type": "code",
   "execution_count": 48,
   "metadata": {
    "scrolled": true
   },
   "outputs": [
    {
     "name": "stdout",
     "output_type": "stream",
     "text": [
      "AUC_train for optimized XGBoost = 0.997\n",
      "AUC_cross_val for optimized XGBoost = 0.835\n"
     ]
    }
   ],
   "source": [
    "clf_xgb = XGBClassifier(max_depth = 11, reg_lambda = 5,\n",
    "                        learning_rate = 0.1, n_estimators = 500,\n",
    "                        objective='binary:logistic', eval_metric='auc', \n",
    "                        use_label_encoder=False, n_jobs=-1)\n",
    "pipe_xgb = Pipeline(steps = [('transformer', CustomizedTransformer()),\n",
    "                        ('ohe_scaler', preprocessor),\n",
    "                        ('clf', clf_xgb)\n",
    "                        ])\n",
    "    \n",
    "scores = cross_validate(pipe_xgb, X_train, y_train, scoring='roc_auc', cv=StratifiedKFold(), \n",
    "                        return_train_score=True)\n",
    "\n",
    "print('AUC_train for optimized XGBoost = {:.3f}'.format(scores['train_score'].mean()))\n",
    "print('AUC_cross_val for optimized XGBoost = {:.3f}'.format(scores['test_score'].mean()))"
   ]
  },
  {
   "cell_type": "code",
   "execution_count": 54,
   "metadata": {},
   "outputs": [
    {
     "data": {
      "image/png": "[encoded data removed]",
      "text/plain": [
       "<Figure size 432x288 with 2 Axes>"
      ]
     },
     "metadata": {
      "needs_background": "light"
     },
     "output_type": "display_data"
    }
   ],
   "source": [
    "pipe_xgb.fit(X_train, y_train)\n",
    "plot_confusion_matrix(pipe_xgb, X_test, y_test, display_labels = \n",
    "                      ['Not paid on time', 'Paid on time']);"
   ]
  },
  {
   "cell_type": "markdown",
   "metadata": {},
   "source": [
    "After the optimization, the cross validation roc_auc score increased slightly from **0.831** to **0.835**. It looks like the XGBoost model is not very sensitive to the hyperparameter tuning. On the other hand, the initial model with default parameters performs almost as good as the one after tuning, perhaps due to the inherent regularization.\n",
    "<br><br>\n",
    "Looking at the new confusion matrix, of the **37071** people who didn't pay the ticket on time, **36901 (99.54%)** are correctly classified (true negative rate). Of the **2899** people who paid on time, **962 (33.18%)** are correctly classified (true positive rate).\n",
    "<br><br> \n",
    "The false positive rate is **FP / (FP + TN) = 170 / (170 + 36891) = 0.46%**, so the threshold we use now corresponds to the point **(FPR, TPR) = (0.0046, 0.3318)** in the following ROC curve plot. Again, the threshold is changeable in order to move the true positive rate and the false positive rate.\n",
    "<br><br>\n",
    "Lastly, we visualize the improvement of hyperparameter tuning by plotting out the ROC curves before and after the optimization. The new curve is just slightly better than the old curve."
   ]
  },
  {
   "cell_type": "code",
   "execution_count": 57,
   "metadata": {},
   "outputs": [
    {
     "data": {
      "image/png": "[encoded data removed]",
      "text/plain": [
       "<Figure size 432x288 with 1 Axes>"
      ]
     },
     "metadata": {
      "needs_background": "light"
     },
     "output_type": "display_data"
    }
   ],
   "source": [
    "y_test_pred = pipe_xgb.predict_proba(X_test)[:,1]\n",
    "fpr_xgb_before, tpr_xgb_before, _ = roc_curve(y_test, y_test_pred_before)\n",
    "fpr_xgb, tpr_xgb, _ = roc_curve(y_test, y_test_pred)\n",
    "\n",
    "fig, ax = plt.subplots()\n",
    "ax.set_xlabel('False Positive Rate')\n",
    "ax.set_ylabel('True Positive Rate')\n",
    "ax.set_title('ROC curves')\n",
    "\n",
    "ax.plot(fpr_xgb_before, tpr_xgb_before, label='XGBoost, before')\n",
    "ax.plot(fpr_xgb, tpr_xgb, label='XGBoost, after')\n",
    "ax.legend()\n",
    "ax.plot([0, 1], [0, 1], ':', c='grey');"
   ]
  },
  {
   "cell_type": "markdown",
   "metadata": {},
   "source": [
    "Lastly, we compare the Random Forest and the XGBoost models. The Random Forest model performs better at FPR of **0.4 ~ 0.6** but very slightly worse at FPR of **~ 0.1**, compared to the XGBoost model. In general, the Random Forest gives us a better Area Under ROC score.  "
   ]
  },
  {
   "cell_type": "code",
   "execution_count": 56,
   "metadata": {},
   "outputs": [
    {
     "data": {
      "image/png": "[encoded data removed]",
      "text/plain": [
       "<Figure size 432x288 with 1 Axes>"
      ]
     },
     "metadata": {
      "needs_background": "light"
     },
     "output_type": "display_data"
    }
   ],
   "source": [
    "fig, ax = plt.subplots()\n",
    "ax.set_xlabel('False Positive Rate')\n",
    "ax.set_ylabel('True Positive Rate')\n",
    "ax.set_title('ROC curves')\n",
    "\n",
    "ax.plot(fpr_rf, tpr_rf, label='Random Forest, after')\n",
    "ax.plot(fpr_xgb, tpr_xgb, label='XGBoost, after')\n",
    "ax.legend()\n",
    "ax.plot([0, 1], [0, 1], ':', c='grey');"
   ]
  },
  {
   "cell_type": "markdown",
   "metadata": {},
   "source": [
    "# 5. Final Submission\n",
    "\n",
    "We will use the Random Forest model to generate predictions on the `test` data for evaluation."
   ]
  },
  {
   "cell_type": "code",
   "execution_count": 51,
   "metadata": {},
   "outputs": [
    {
     "data": {
      "text/plain": [
       "ticket_id\n",
       "284932    0.074600\n",
       "285362    0.030746\n",
       "285361    0.062704\n",
       "285338    0.069517\n",
       "285346    0.071093\n",
       "            ...   \n",
       "376496    0.024607\n",
       "376497    0.024607\n",
       "376499    0.063282\n",
       "376500    0.064386\n",
       "369851    0.507851\n",
       "Name: compliance, Length: 61001, dtype: float64"
      ]
     },
     "execution_count": 51,
     "metadata": {},
     "output_type": "execute_result"
    }
   ],
   "source": [
    "clf_rf = RandomForestClassifier(min_samples_split = 2, max_features = 9,\n",
    "                                ccp_alpha = 1.2e-5, n_estimators = 750, n_jobs = -1)\n",
    "pipe_rf = Pipeline(steps = [('transformer', CustomizedTransformer()),\n",
    "                        ('ohe_scaler', preprocessor),\n",
    "                        ('todense', FunctionTransformer(lambda x: x.todense(), \n",
    "                                                accept_sparse = True)),\n",
    "                        ('clf', clf_rf)\n",
    "                        ])\n",
    "pipe_rf.fit(X, y)\n",
    "\n",
    "y_eval = pipe_rf.predict_proba(test)[:,1]\n",
    "\n",
    "y_eval = pd.Series(y_eval).rename(test_id)\n",
    "y_eval = y_eval.rename('compliance')\n",
    "y_eval.index.name = 'ticket_id'\n",
    "\n",
    "y_eval"
   ]
  },
  {
   "cell_type": "code",
   "execution_count": null,
   "metadata": {},
   "outputs": [],
   "source": []
  }
 ],
 "metadata": {
  "coursera": {
   "course_slug": "python-machine-learning",
   "graded_item_id": "nNS8l",
   "launcher_item_id": "yWWk7",
   "part_id": "w8BSS"
  },
  "kernelspec": {
   "display_name": "Python 3",
   "language": "python",
   "name": "python3"
  },
  "language_info": {
   "codemirror_mode": {
    "name": "ipython",
    "version": 3
   },
   "file_extension": ".py",
   "mimetype": "text/x-python",
   "name": "python",
   "nbconvert_exporter": "python",
   "pygments_lexer": "ipython3",
   "version": "3.8.5"
  }
 },
 "nbformat": 4,
 "nbformat_minor": 2
}
